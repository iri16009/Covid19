{
 "cells": [
  {
   "cell_type": "markdown",
   "metadata": {},
   "source": [
    "#### IE 3034 - Sistemas de Control 2\n",
    "#### Eduardo Santizo\n",
    "#### Gabriela Iriarte\n",
    "### Simulación de COVID 19\n",
    "#### 26/04/2019\n",
    "\n",
    "Descripción: Este programa "
   ]
  },
  {
   "cell_type": "code",
   "execution_count": 1,
   "metadata": {},
   "outputs": [
    {
     "name": "stderr",
     "output_type": "stream",
     "text": [
      "b'Skipping line 244: expected 91 fields, saw 92\\n'\n"
     ]
    }
   ],
   "source": [
    "import os\n",
    "import pandas as pd\n",
    "import matplotlib.pyplot as plt\n",
    "import numpy as np\n",
    "from scipy.integrate import odeint\n",
    "from scipy.optimize import least_squares, curve_fit\n",
    "\n",
    "direc = \"C:/Users/Gaby/Documents/5A1S/control2/Covid19/\"\n",
    "general = os.path.join(direc,'owid-covid-data.csv')\n",
    "recuperados = os.path.join(direc,'time_series_covid19_recovered_global.csv')\n",
    "recuperados_18 = os.path.join(direc,'time_series_covid19_recovered_global_18.csv')\n",
    "\n",
    "df = pd.read_csv(general, sep=\",\",encoding = 'latin_1')\n",
    "df_rec = pd.read_csv(recuperados, sep=\",\",encoding = 'latin_1', error_bad_lines=False)\n",
    "df_rec_18 = pd.read_csv(recuperados_18, sep=\",\",encoding = 'latin_1', error_bad_lines=False)\n",
    "df_CHN = df[df['location']=='China'][['location','date','total_cases','new_cases','total_deaths']]\n",
    "df_GTM = df[df['location']=='Guatemala'][['location','date','total_cases','new_cases','total_deaths']]\n",
    "df_IT = df[df['location']=='Italy'][['location','date','total_cases','new_cases','total_deaths']]\n",
    "val_it = df_rec_18[df_rec_18['Country/Region']=='Italy'][['4/18/20']]\n",
    "val_chn = df_rec_18[df_rec_18['Country/Region']=='China'][['4/18/20']].sum(axis = 0, skipna = True)\n",
    "\n",
    "# Arreglando db de los recuperados en Guatemala\n",
    "df_rec.columns\n",
    "GTM_rec = df_rec[df_rec['Country/Region']=='Guatemala']\n",
    "GTM_rec = GTM_rec.iloc[0,57:]#.transpose()\n",
    "GTM_rec.name = \"recovered\"\n",
    "GTM_rec = pd.DataFrame(GTM_rec[0:])\n",
    "GTM_rec.index.name = 'date'\n",
    "GTM_rec.reset_index(inplace=True)\n",
    "df_extra = pd.DataFrame({\"date\":[\"2020-04-18\"],\"recovered\":[21]})\n",
    "GTM_rec = GTM_rec.append(df_extra)\n",
    "\n",
    "### COLORES\n",
    "rojo_cool = (1, 0.2, 0.14)\n",
    "aqua = (0.141, 1, 0.368)\n",
    "naranja = (1, 0.627, 0.141)\n",
    "azuloso = (0.254, 0.141, 1)\n",
    "verde_cool = (0.058, 0.8, 0.086)# (0.57, 0.93, 0.27)\n",
    "azul_cool = (0.27,0.45,0.93)\n",
    "negro_cool = (0.12, 0.12, 0.12)\n",
    "blanco_cool = (0.72, 0.72, 0.72)\n",
    "gris_cool = (0.490, 0.490, 0.490)"
   ]
  },
  {
   "cell_type": "code",
   "execution_count": 2,
   "metadata": {},
   "outputs": [],
   "source": [
    "def SEIRD(y, t, beta, alpha, f): # delta = alpha del paper y el 1/Ti = gamma\n",
    "    S, I, R, E, D = y\n",
    "    dSdt = -beta*I*(S/N)\n",
    "    dEdt = beta*I*(S/N)-alpha*E\n",
    "    dIdt = alpha*E-gamma*I\n",
    "    dRdt = gamma*I*(1-f)\n",
    "    dDdt = f*I*gamma\n",
    "    return dSdt, dIdt, dRdt, dEdt, dDdt\n",
    "\n",
    "def fit_odeint(t, beta, alpha, f):\n",
    "    return odeint(SEIRD, (S0, I0, R0, E0, D0), t, args=(beta, alpha, f))[:,1]"
   ]
  },
  {
   "cell_type": "code",
   "execution_count": 18,
   "metadata": {},
   "outputs": [
    {
     "data": {
      "image/png": "[encoded data removed]",
      "text/plain": [
       "<Figure size 432x288 with 1 Axes>"
      ]
     },
     "metadata": {
      "needs_background": "light"
     },
     "output_type": "display_data"
    }
   ],
   "source": [
    "# Parámetros que no cambian\n",
    "\n",
    "N = 17853502 # population en Guatemala\n",
    "Ti = 20 # Basado en el paper de Italia, pag 6\n",
    "gamma = 1/Ti\n",
    "\n",
    "# Es necesario agarrar los días pero con números y no como strings para meterlos\n",
    "# como puntos y hacer el curve fitting\n",
    "xdata = np.arange(1,len(df_GTM['date'])+1,1)\n",
    "\n",
    "# Para que la función acepte los datos tienen que estar en forma de array\n",
    "ydata = np.array(df_GTM['total_cases'],dtype=int)\n",
    "\n",
    "t = np.linspace(1, 200, 100) # días\n",
    "\n",
    "\n",
    "# Datos iniciales\n",
    "I0 = df_GTM['total_cases'].iloc[0] # contagiados inicialmente \n",
    "S0 = N-I0\n",
    "R0 = 0\n",
    "E0 = I0\n",
    "D0 = 0\n",
    "\n",
    "y0 = S0, I0, R0, E0, D0\n",
    "\n",
    "# Hacemos el curve fit de los datos. La función devuelve en popt los parámetros óptimos\n",
    "popt, pcov = curve_fit(fit_odeint,np.array(xdata),ydata,bounds=([0,0,0],[np.inf,np.inf,np.inf]))\n",
    "\n",
    "# Resolvemos el sistema de ecuaciones diferenciales \n",
    "ret = odeint(SEIRD, y0, t, args=tuple(popt))\n",
    "# Guardamos las funciones solución de las ED\n",
    "S, I, R, E, D = ret.T\n",
    "\n",
    "plt.plot(t,I,color=rojo_cool) # Curva ajustada\n",
    "plt.plot(t,R,color=azul_cool) # Curva ajustada\n",
    "plt.plot(t,D,color=negro_cool) # Curva ajustada\n",
    "plt.plot(t,S,color=verde_cool) # wtf\n",
    "plt.plot(t,E,color=naranja) # Curva ajustada\n",
    "plt.plot(xdata, ydata, 'o')   # Datos reales\n",
    "plt.show()"
   ]
  },
  {
   "cell_type": "code",
   "execution_count": 8,
   "metadata": {},
   "outputs": [
    {
     "data": {
      "text/plain": [
       "array([ 0.2009108 ,  6.07025189, 12.32320677])"
      ]
     },
     "execution_count": 8,
     "metadata": {},
     "output_type": "execute_result"
    }
   ],
   "source": [
    "popt"
   ]
  },
  {
   "cell_type": "code",
   "execution_count": null,
   "metadata": {},
   "outputs": [],
   "source": []
  },
  {
   "cell_type": "code",
   "execution_count": null,
   "metadata": {},
   "outputs": [],
   "source": []
  }
 ],
 "metadata": {
  "kernelspec": {
   "display_name": "Python 3",
   "language": "python",
   "name": "python3"
  },
  "language_info": {
   "codemirror_mode": {
    "name": "ipython",
    "version": 3
   },
   "file_extension": ".py",
   "mimetype": "text/x-python",
   "name": "python",
   "nbconvert_exporter": "python",
   "pygments_lexer": "ipython3",
   "version": "3.7.3"
  }
 },
 "nbformat": 4,
 "nbformat_minor": 4
}
